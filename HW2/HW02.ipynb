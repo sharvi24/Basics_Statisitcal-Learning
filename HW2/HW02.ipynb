{
 "cells": [
  {
   "cell_type": "code",
   "execution_count": 215,
   "metadata": {},
   "outputs": [
    {
     "data": {
      "text/html": [
       "<div>\n",
       "<style scoped>\n",
       "    .dataframe tbody tr th:only-of-type {\n",
       "        vertical-align: middle;\n",
       "    }\n",
       "\n",
       "    .dataframe tbody tr th {\n",
       "        vertical-align: top;\n",
       "    }\n",
       "\n",
       "    .dataframe thead th {\n",
       "        text-align: right;\n",
       "    }\n",
       "</style>\n",
       "<table border=\"1\" class=\"dataframe\">\n",
       "  <thead>\n",
       "    <tr style=\"text-align: right;\">\n",
       "      <th></th>\n",
       "      <th>Unnamed: 0</th>\n",
       "      <th>date</th>\n",
       "      <th>age</th>\n",
       "      <th>distance</th>\n",
       "      <th>stores</th>\n",
       "      <th>latitude</th>\n",
       "      <th>longitude</th>\n",
       "      <th>price</th>\n",
       "    </tr>\n",
       "  </thead>\n",
       "  <tbody>\n",
       "    <tr>\n",
       "      <td>0</td>\n",
       "      <td>1</td>\n",
       "      <td>2012.917</td>\n",
       "      <td>32.0</td>\n",
       "      <td>84.87882</td>\n",
       "      <td>10</td>\n",
       "      <td>24.98298</td>\n",
       "      <td>121.54024</td>\n",
       "      <td>37.9</td>\n",
       "    </tr>\n",
       "    <tr>\n",
       "      <td>1</td>\n",
       "      <td>2</td>\n",
       "      <td>2012.917</td>\n",
       "      <td>19.5</td>\n",
       "      <td>306.59470</td>\n",
       "      <td>9</td>\n",
       "      <td>24.98034</td>\n",
       "      <td>121.53951</td>\n",
       "      <td>42.2</td>\n",
       "    </tr>\n",
       "    <tr>\n",
       "      <td>2</td>\n",
       "      <td>3</td>\n",
       "      <td>2013.583</td>\n",
       "      <td>13.3</td>\n",
       "      <td>561.98450</td>\n",
       "      <td>5</td>\n",
       "      <td>24.98746</td>\n",
       "      <td>121.54391</td>\n",
       "      <td>47.3</td>\n",
       "    </tr>\n",
       "    <tr>\n",
       "      <td>3</td>\n",
       "      <td>4</td>\n",
       "      <td>2013.500</td>\n",
       "      <td>13.3</td>\n",
       "      <td>561.98450</td>\n",
       "      <td>5</td>\n",
       "      <td>24.98746</td>\n",
       "      <td>121.54391</td>\n",
       "      <td>54.8</td>\n",
       "    </tr>\n",
       "    <tr>\n",
       "      <td>4</td>\n",
       "      <td>5</td>\n",
       "      <td>2012.833</td>\n",
       "      <td>5.0</td>\n",
       "      <td>390.56840</td>\n",
       "      <td>5</td>\n",
       "      <td>24.97937</td>\n",
       "      <td>121.54245</td>\n",
       "      <td>43.1</td>\n",
       "    </tr>\n",
       "  </tbody>\n",
       "</table>\n",
       "</div>"
      ],
      "text/plain": [
       "   Unnamed: 0      date   age   distance  stores  latitude  longitude  price\n",
       "0           1  2012.917  32.0   84.87882      10  24.98298  121.54024   37.9\n",
       "1           2  2012.917  19.5  306.59470       9  24.98034  121.53951   42.2\n",
       "2           3  2013.583  13.3  561.98450       5  24.98746  121.54391   47.3\n",
       "3           4  2013.500  13.3  561.98450       5  24.98746  121.54391   54.8\n",
       "4           5  2012.833   5.0  390.56840       5  24.97937  121.54245   43.1"
      ]
     },
     "execution_count": 215,
     "metadata": {},
     "output_type": "execute_result"
    }
   ],
   "source": [
    "# Loading realestate data\n",
    "import pandas as pd\n",
    "realestate = pd.read_csv(\"realestate.csv\")\n",
    "realestate.head()"
   ]
  },
  {
   "cell_type": "code",
   "execution_count": 216,
   "metadata": {},
   "outputs": [
    {
     "data": {
      "text/html": [
       "<div>\n",
       "<style scoped>\n",
       "    .dataframe tbody tr th:only-of-type {\n",
       "        vertical-align: middle;\n",
       "    }\n",
       "\n",
       "    .dataframe tbody tr th {\n",
       "        vertical-align: top;\n",
       "    }\n",
       "\n",
       "    .dataframe thead th {\n",
       "        text-align: right;\n",
       "    }\n",
       "</style>\n",
       "<table border=\"1\" class=\"dataframe\">\n",
       "  <thead>\n",
       "    <tr style=\"text-align: right;\">\n",
       "      <th></th>\n",
       "      <th>Unnamed: 0</th>\n",
       "      <th>date</th>\n",
       "      <th>age</th>\n",
       "      <th>distance</th>\n",
       "      <th>stores</th>\n",
       "      <th>latitude</th>\n",
       "      <th>longitude</th>\n",
       "      <th>price</th>\n",
       "      <th>new</th>\n",
       "    </tr>\n",
       "  </thead>\n",
       "  <tbody>\n",
       "    <tr>\n",
       "      <td>0</td>\n",
       "      <td>1</td>\n",
       "      <td>2012.917</td>\n",
       "      <td>32.0</td>\n",
       "      <td>84.87882</td>\n",
       "      <td>10</td>\n",
       "      <td>24.98298</td>\n",
       "      <td>121.54024</td>\n",
       "      <td>37.9</td>\n",
       "      <td>0.917</td>\n",
       "    </tr>\n",
       "    <tr>\n",
       "      <td>1</td>\n",
       "      <td>2</td>\n",
       "      <td>2012.917</td>\n",
       "      <td>19.5</td>\n",
       "      <td>306.59470</td>\n",
       "      <td>9</td>\n",
       "      <td>24.98034</td>\n",
       "      <td>121.53951</td>\n",
       "      <td>42.2</td>\n",
       "      <td>0.917</td>\n",
       "    </tr>\n",
       "    <tr>\n",
       "      <td>2</td>\n",
       "      <td>3</td>\n",
       "      <td>2013.583</td>\n",
       "      <td>13.3</td>\n",
       "      <td>561.98450</td>\n",
       "      <td>5</td>\n",
       "      <td>24.98746</td>\n",
       "      <td>121.54391</td>\n",
       "      <td>47.3</td>\n",
       "      <td>0.583</td>\n",
       "    </tr>\n",
       "    <tr>\n",
       "      <td>3</td>\n",
       "      <td>4</td>\n",
       "      <td>2013.500</td>\n",
       "      <td>13.3</td>\n",
       "      <td>561.98450</td>\n",
       "      <td>5</td>\n",
       "      <td>24.98746</td>\n",
       "      <td>121.54391</td>\n",
       "      <td>54.8</td>\n",
       "      <td>0.500</td>\n",
       "    </tr>\n",
       "    <tr>\n",
       "      <td>4</td>\n",
       "      <td>5</td>\n",
       "      <td>2012.833</td>\n",
       "      <td>5.0</td>\n",
       "      <td>390.56840</td>\n",
       "      <td>5</td>\n",
       "      <td>24.97937</td>\n",
       "      <td>121.54245</td>\n",
       "      <td>43.1</td>\n",
       "      <td>0.833</td>\n",
       "    </tr>\n",
       "  </tbody>\n",
       "</table>\n",
       "</div>"
      ],
      "text/plain": [
       "   Unnamed: 0      date   age   distance  stores  latitude  longitude  price  \\\n",
       "0           1  2012.917  32.0   84.87882      10  24.98298  121.54024   37.9   \n",
       "1           2  2012.917  19.5  306.59470       9  24.98034  121.53951   42.2   \n",
       "2           3  2013.583  13.3  561.98450       5  24.98746  121.54391   47.3   \n",
       "3           4  2013.500  13.3  561.98450       5  24.98746  121.54391   54.8   \n",
       "4           5  2012.833   5.0  390.56840       5  24.97937  121.54245   43.1   \n",
       "\n",
       "     new  \n",
       "0  0.917  \n",
       "1  0.917  \n",
       "2  0.583  \n",
       "3  0.500  \n",
       "4  0.833  "
      ]
     },
     "execution_count": 216,
     "metadata": {},
     "output_type": "execute_result"
    }
   ],
   "source": [
    "# Create season var from date\n",
    "\n",
    "## Creating a var 'new' with decimal values from 'date' var\n",
    "import numpy as np\n",
    "realestate[\"new\"]=realestate[\"date\"] - np.floor(realestate[\"date\"])  #Math.floor expects a single number, not array\n",
    "realestate.head()"
   ]
  },
  {
   "cell_type": "code",
   "execution_count": 217,
   "metadata": {},
   "outputs": [
    {
     "data": {
      "text/plain": [
       "date         float64\n",
       "age          float64\n",
       "distance     float64\n",
       "stores         int64\n",
       "latitude     float64\n",
       "longitude    float64\n",
       "price        float64\n",
       "new          float64\n",
       "dtype: object"
      ]
     },
     "execution_count": 217,
     "metadata": {},
     "output_type": "execute_result"
    }
   ],
   "source": [
    "realestate=realestate.drop(columns=realestate.columns[0])\n",
    "realestate.dtypes"
   ]
  },
  {
   "cell_type": "code",
   "execution_count": 218,
   "metadata": {
    "scrolled": true
   },
   "outputs": [
    {
     "data": {
      "text/html": [
       "<div>\n",
       "<style scoped>\n",
       "    .dataframe tbody tr th:only-of-type {\n",
       "        vertical-align: middle;\n",
       "    }\n",
       "\n",
       "    .dataframe tbody tr th {\n",
       "        vertical-align: top;\n",
       "    }\n",
       "\n",
       "    .dataframe thead th {\n",
       "        text-align: right;\n",
       "    }\n",
       "</style>\n",
       "<table border=\"1\" class=\"dataframe\">\n",
       "  <thead>\n",
       "    <tr style=\"text-align: right;\">\n",
       "      <th></th>\n",
       "      <th>date</th>\n",
       "      <th>age</th>\n",
       "      <th>distance</th>\n",
       "      <th>stores</th>\n",
       "      <th>latitude</th>\n",
       "      <th>longitude</th>\n",
       "      <th>price</th>\n",
       "      <th>new</th>\n",
       "      <th>season</th>\n",
       "    </tr>\n",
       "  </thead>\n",
       "  <tbody>\n",
       "    <tr>\n",
       "      <td>0</td>\n",
       "      <td>2012.917</td>\n",
       "      <td>32.0</td>\n",
       "      <td>84.87882</td>\n",
       "      <td>10</td>\n",
       "      <td>24.98298</td>\n",
       "      <td>121.54024</td>\n",
       "      <td>37.9</td>\n",
       "      <td>0.917</td>\n",
       "      <td>fall</td>\n",
       "    </tr>\n",
       "    <tr>\n",
       "      <td>1</td>\n",
       "      <td>2012.917</td>\n",
       "      <td>19.5</td>\n",
       "      <td>306.59470</td>\n",
       "      <td>9</td>\n",
       "      <td>24.98034</td>\n",
       "      <td>121.53951</td>\n",
       "      <td>42.2</td>\n",
       "      <td>0.917</td>\n",
       "      <td>fall</td>\n",
       "    </tr>\n",
       "    <tr>\n",
       "      <td>2</td>\n",
       "      <td>2013.583</td>\n",
       "      <td>13.3</td>\n",
       "      <td>561.98450</td>\n",
       "      <td>5</td>\n",
       "      <td>24.98746</td>\n",
       "      <td>121.54391</td>\n",
       "      <td>47.3</td>\n",
       "      <td>0.583</td>\n",
       "      <td>summer</td>\n",
       "    </tr>\n",
       "    <tr>\n",
       "      <td>3</td>\n",
       "      <td>2013.500</td>\n",
       "      <td>13.3</td>\n",
       "      <td>561.98450</td>\n",
       "      <td>5</td>\n",
       "      <td>24.98746</td>\n",
       "      <td>121.54391</td>\n",
       "      <td>54.8</td>\n",
       "      <td>0.500</td>\n",
       "      <td>summer</td>\n",
       "    </tr>\n",
       "    <tr>\n",
       "      <td>4</td>\n",
       "      <td>2012.833</td>\n",
       "      <td>5.0</td>\n",
       "      <td>390.56840</td>\n",
       "      <td>5</td>\n",
       "      <td>24.97937</td>\n",
       "      <td>121.54245</td>\n",
       "      <td>43.1</td>\n",
       "      <td>0.833</td>\n",
       "      <td>fall</td>\n",
       "    </tr>\n",
       "  </tbody>\n",
       "</table>\n",
       "</div>"
      ],
      "text/plain": [
       "       date   age   distance  stores  latitude  longitude  price    new  \\\n",
       "0  2012.917  32.0   84.87882      10  24.98298  121.54024   37.9  0.917   \n",
       "1  2012.917  19.5  306.59470       9  24.98034  121.53951   42.2  0.917   \n",
       "2  2013.583  13.3  561.98450       5  24.98746  121.54391   47.3  0.583   \n",
       "3  2013.500  13.3  561.98450       5  24.98746  121.54391   54.8  0.500   \n",
       "4  2012.833   5.0  390.56840       5  24.97937  121.54245   43.1  0.833   \n",
       "\n",
       "   season  \n",
       "0    fall  \n",
       "1    fall  \n",
       "2  summer  \n",
       "3  summer  \n",
       "4    fall  "
      ]
     },
     "execution_count": 218,
     "metadata": {},
     "output_type": "execute_result"
    }
   ],
   "source": [
    "realestate.loc[(realestate.new >= .250) & (realestate.new < .418),'season' ]=\"spring\"\n",
    "realestate.loc[(realestate.new >= .500) & (realestate.new < .668),'season' ]=\"summer\"\n",
    "realestate.loc[(realestate.new >= .750) & (realestate.new < .918),'season' ]=\"fall\"\n",
    "realestate.loc[(realestate.new >= .000) & (realestate.new < .168),'season' ]=\"winter\"\n",
    "\n",
    "realestate.head()"
   ]
  },
  {
   "cell_type": "code",
   "execution_count": 219,
   "metadata": {},
   "outputs": [],
   "source": [
    "realestate=realestate.drop(columns=['new'])\n",
    "\n",
    "## Table summary of 'season' var "
   ]
  },
  {
   "cell_type": "code",
   "execution_count": 220,
   "metadata": {},
   "outputs": [
    {
     "data": {
      "text/plain": [
       "date         float64\n",
       "age          float64\n",
       "distance     float64\n",
       "stores         int64\n",
       "latitude     float64\n",
       "longitude    float64\n",
       "price        float64\n",
       "season        object\n",
       "dtype: object"
      ]
     },
     "execution_count": 220,
     "metadata": {},
     "output_type": "execute_result"
    }
   ],
   "source": [
    "## Changing data type to factor\n",
    "realestate.dtypes"
   ]
  },
  {
   "cell_type": "code",
   "execution_count": 221,
   "metadata": {},
   "outputs": [
    {
     "data": {
      "text/html": [
       "<div>\n",
       "<style scoped>\n",
       "    .dataframe tbody tr th:only-of-type {\n",
       "        vertical-align: middle;\n",
       "    }\n",
       "\n",
       "    .dataframe tbody tr th {\n",
       "        vertical-align: top;\n",
       "    }\n",
       "\n",
       "    .dataframe thead th {\n",
       "        text-align: right;\n",
       "    }\n",
       "</style>\n",
       "<table border=\"1\" class=\"dataframe\">\n",
       "  <thead>\n",
       "    <tr style=\"text-align: right;\">\n",
       "      <th></th>\n",
       "      <th>date</th>\n",
       "      <th>age</th>\n",
       "      <th>distance</th>\n",
       "      <th>stores</th>\n",
       "      <th>latitude</th>\n",
       "      <th>longitude</th>\n",
       "      <th>price</th>\n",
       "      <th>fall</th>\n",
       "      <th>spring</th>\n",
       "      <th>summer</th>\n",
       "      <th>winter</th>\n",
       "    </tr>\n",
       "  </thead>\n",
       "  <tbody>\n",
       "    <tr>\n",
       "      <td>0</td>\n",
       "      <td>2012.917</td>\n",
       "      <td>32.0</td>\n",
       "      <td>84.87882</td>\n",
       "      <td>10</td>\n",
       "      <td>24.98298</td>\n",
       "      <td>121.54024</td>\n",
       "      <td>37.9</td>\n",
       "      <td>1</td>\n",
       "      <td>0</td>\n",
       "      <td>0</td>\n",
       "      <td>0</td>\n",
       "    </tr>\n",
       "    <tr>\n",
       "      <td>1</td>\n",
       "      <td>2012.917</td>\n",
       "      <td>19.5</td>\n",
       "      <td>306.59470</td>\n",
       "      <td>9</td>\n",
       "      <td>24.98034</td>\n",
       "      <td>121.53951</td>\n",
       "      <td>42.2</td>\n",
       "      <td>1</td>\n",
       "      <td>0</td>\n",
       "      <td>0</td>\n",
       "      <td>0</td>\n",
       "    </tr>\n",
       "    <tr>\n",
       "      <td>2</td>\n",
       "      <td>2013.583</td>\n",
       "      <td>13.3</td>\n",
       "      <td>561.98450</td>\n",
       "      <td>5</td>\n",
       "      <td>24.98746</td>\n",
       "      <td>121.54391</td>\n",
       "      <td>47.3</td>\n",
       "      <td>0</td>\n",
       "      <td>0</td>\n",
       "      <td>1</td>\n",
       "      <td>0</td>\n",
       "    </tr>\n",
       "    <tr>\n",
       "      <td>3</td>\n",
       "      <td>2013.500</td>\n",
       "      <td>13.3</td>\n",
       "      <td>561.98450</td>\n",
       "      <td>5</td>\n",
       "      <td>24.98746</td>\n",
       "      <td>121.54391</td>\n",
       "      <td>54.8</td>\n",
       "      <td>0</td>\n",
       "      <td>0</td>\n",
       "      <td>1</td>\n",
       "      <td>0</td>\n",
       "    </tr>\n",
       "    <tr>\n",
       "      <td>4</td>\n",
       "      <td>2012.833</td>\n",
       "      <td>5.0</td>\n",
       "      <td>390.56840</td>\n",
       "      <td>5</td>\n",
       "      <td>24.97937</td>\n",
       "      <td>121.54245</td>\n",
       "      <td>43.1</td>\n",
       "      <td>1</td>\n",
       "      <td>0</td>\n",
       "      <td>0</td>\n",
       "      <td>0</td>\n",
       "    </tr>\n",
       "  </tbody>\n",
       "</table>\n",
       "</div>"
      ],
      "text/plain": [
       "       date   age   distance  stores  latitude  longitude  price  fall  \\\n",
       "0  2012.917  32.0   84.87882      10  24.98298  121.54024   37.9     1   \n",
       "1  2012.917  19.5  306.59470       9  24.98034  121.53951   42.2     1   \n",
       "2  2013.583  13.3  561.98450       5  24.98746  121.54391   47.3     0   \n",
       "3  2013.500  13.3  561.98450       5  24.98746  121.54391   54.8     0   \n",
       "4  2012.833   5.0  390.56840       5  24.97937  121.54245   43.1     1   \n",
       "\n",
       "   spring  summer  winter  \n",
       "0       0       0       0  \n",
       "1       0       0       0  \n",
       "2       0       1       0  \n",
       "3       0       1       0  \n",
       "4       0       0       0  "
      ]
     },
     "execution_count": 221,
     "metadata": {},
     "output_type": "execute_result"
    }
   ],
   "source": [
    "# Preparing Season variable for linear regression model\n",
    "cat_var=realestate[\"season\"]\n",
    "cat_var=pd.get_dummies(data=cat_var)\n",
    "\n",
    "realestate=pd.concat([realestate,cat_var], axis=1)\n",
    "realestate=realestate.drop(columns=['season'])\n",
    "realestate.head()"
   ]
  },
  {
   "cell_type": "code",
   "execution_count": 222,
   "metadata": {},
   "outputs": [],
   "source": [
    "## Spliting data into testing data (100 observations) & training data (rest obs)\n",
    "\n",
    "from sklearn.model_selection import train_test_split\n",
    "train, test = train_test_split(realestate, test_size=100/len(realestate))"
   ]
  },
  {
   "cell_type": "code",
   "execution_count": 223,
   "metadata": {},
   "outputs": [
    {
     "data": {
      "text/plain": [
       "(314, 11)"
      ]
     },
     "execution_count": 223,
     "metadata": {},
     "output_type": "execute_result"
    }
   ],
   "source": [
    "train.shape"
   ]
  },
  {
   "cell_type": "code",
   "execution_count": 224,
   "metadata": {},
   "outputs": [
    {
     "data": {
      "text/plain": [
       "(100, 11)"
      ]
     },
     "execution_count": 224,
     "metadata": {},
     "output_type": "execute_result"
    }
   ],
   "source": [
    "test.shape"
   ]
  },
  {
   "cell_type": "code",
   "execution_count": 225,
   "metadata": {},
   "outputs": [
    {
     "data": {
      "text/plain": [
       "38.28726114649682"
      ]
     },
     "execution_count": 225,
     "metadata": {},
     "output_type": "execute_result"
    }
   ],
   "source": [
    "## Reporting the mean price of testing data and training data\n",
    "np.mean(train[\"price\"])"
   ]
  },
  {
   "cell_type": "code",
   "execution_count": 226,
   "metadata": {},
   "outputs": [
    {
     "data": {
      "text/plain": [
       "37.016000000000005"
      ]
     },
     "execution_count": 226,
     "metadata": {},
     "output_type": "execute_result"
    }
   ],
   "source": [
    "np.mean(test[\"price\"])"
   ]
  },
  {
   "cell_type": "code",
   "execution_count": 227,
   "metadata": {},
   "outputs": [],
   "source": [
    "## Use the training dataset to perform a linear regression\n",
    "\n",
    "from sklearn.linear_model import LinearRegression\n",
    "X=train[[\"age\",\"distance\",\"stores\",\"fall\",\"spring\",\"summer\", \"winter\"]]\n",
    "y=train[\"price\"]\n",
    "model=LinearRegression(fit_intercept=False).fit(X,y)"
   ]
  },
  {
   "cell_type": "code",
   "execution_count": 228,
   "metadata": {},
   "outputs": [
    {
     "data": {
      "text/plain": [
       "array([50.22209333, 51.19822416, 32.68373756, 29.3776122 , 41.09361013,\n",
       "       29.73795343, 31.18956746, 45.29252175, 56.12043516, 17.06729181,\n",
       "       35.79882128, 46.4740768 , 44.22108369, 53.87486316, 38.34673773,\n",
       "       34.70516806, 36.1140618 , 31.14316905, 35.29366608, 17.85680071,\n",
       "       39.80392234, 32.50531902, 23.80935139, 51.26736899, 48.6849747 ,\n",
       "       45.93338457, 50.22209333, 44.9205908 , 49.04567792, 32.57229451,\n",
       "       30.07374875, 50.77500456, 33.98302523, 39.12493527, 40.42983417,\n",
       "       48.23321489, 39.24130584, 42.24003961, 38.41207993, 35.42302771,\n",
       "       36.5448334 , 35.30994727, 45.60311714, 41.49069311, 34.30790597,\n",
       "       28.00159502, 37.62039788, 33.70404615, 39.33656052, 33.3765172 ,\n",
       "       39.46228547, 37.59115681, 46.297708  , 36.01248448, 32.79959064,\n",
       "       29.86248586, 41.81155952, 42.33701668, 40.39641561, 48.52623993,\n",
       "       17.85680071, 19.54385308, 43.43497457, 33.22168183, 33.75276534,\n",
       "       34.74878831, 40.83133431, 42.79141516, 49.81348382, 52.77071526,\n",
       "       33.44062534, 43.72692479, 37.38323533, 47.29588028, 41.61104188,\n",
       "       38.1802525 , 21.709896  , 33.87000709, 29.21733532, 44.55268836,\n",
       "       53.32222211, 48.25956493, 30.67507352, 35.39251444, 44.4751653 ,\n",
       "       35.95205845, 34.64668592, 37.01660425, 54.75311763, 47.88245313,\n",
       "       39.42447307,  7.05074103, 37.62039788, 37.62039788, 49.2557424 ,\n",
       "       46.46665569, 44.72283152, 48.95835785, 44.69637213, 53.44362834])"
      ]
     },
     "execution_count": 228,
     "metadata": {},
     "output_type": "execute_result"
    }
   ],
   "source": [
    "## Predicting the testing data\n",
    "test_pred=model.predict(test[[\"age\",\"distance\",\"stores\",\"fall\",\"spring\",\"summer\", \"winter\"]])\n",
    "test_pred"
   ]
  },
  {
   "cell_type": "code",
   "execution_count": 229,
   "metadata": {},
   "outputs": [
    {
     "data": {
      "text/plain": [
       "89.18902303663886"
      ]
     },
     "execution_count": 229,
     "metadata": {},
     "output_type": "execute_result"
    }
   ],
   "source": [
    "## Training data mean squared error\n",
    "train_pred=model.predict(train[[\"age\",\"distance\",\"stores\",\"fall\",\"spring\",\"summer\", \"winter\"]])\n",
    "training_error=np.mean((train[\"price\"] - train_pred)**2)\n",
    "training_error"
   ]
  },
  {
   "cell_type": "code",
   "execution_count": 230,
   "metadata": {},
   "outputs": [
    {
     "data": {
      "text/plain": [
       "63.29887448763914"
      ]
     },
     "execution_count": 230,
     "metadata": {},
     "output_type": "execute_result"
    }
   ],
   "source": [
    "## Testing data mean squared error\n",
    "testing_error=np.mean((test[\"price\"] - test_pred)**2)\n",
    "testing_error"
   ]
  },
  {
   "cell_type": "markdown",
   "metadata": {},
   "source": [
    "### Calculating beta parameter "
   ]
  },
  {
   "cell_type": "code",
   "execution_count": 231,
   "metadata": {},
   "outputs": [
    {
     "data": {
      "text/html": [
       "<div>\n",
       "<style scoped>\n",
       "    .dataframe tbody tr th:only-of-type {\n",
       "        vertical-align: middle;\n",
       "    }\n",
       "\n",
       "    .dataframe tbody tr th {\n",
       "        vertical-align: top;\n",
       "    }\n",
       "\n",
       "    .dataframe thead th {\n",
       "        text-align: right;\n",
       "    }\n",
       "</style>\n",
       "<table border=\"1\" class=\"dataframe\">\n",
       "  <thead>\n",
       "    <tr style=\"text-align: right;\">\n",
       "      <th></th>\n",
       "      <th>date</th>\n",
       "      <th>age</th>\n",
       "      <th>distance</th>\n",
       "      <th>stores</th>\n",
       "      <th>latitude</th>\n",
       "      <th>longitude</th>\n",
       "      <th>price</th>\n",
       "      <th>fall</th>\n",
       "      <th>spring</th>\n",
       "      <th>summer</th>\n",
       "      <th>winter</th>\n",
       "    </tr>\n",
       "  </thead>\n",
       "  <tbody>\n",
       "    <tr>\n",
       "      <td>347</td>\n",
       "      <td>2013.583</td>\n",
       "      <td>17.4</td>\n",
       "      <td>6488.0210</td>\n",
       "      <td>1</td>\n",
       "      <td>24.95719</td>\n",
       "      <td>121.47353</td>\n",
       "      <td>11.2</td>\n",
       "      <td>0</td>\n",
       "      <td>0</td>\n",
       "      <td>1</td>\n",
       "      <td>0</td>\n",
       "    </tr>\n",
       "    <tr>\n",
       "      <td>140</td>\n",
       "      <td>2013.250</td>\n",
       "      <td>16.2</td>\n",
       "      <td>289.3248</td>\n",
       "      <td>5</td>\n",
       "      <td>24.98203</td>\n",
       "      <td>121.54348</td>\n",
       "      <td>51.4</td>\n",
       "      <td>0</td>\n",
       "      <td>1</td>\n",
       "      <td>0</td>\n",
       "      <td>0</td>\n",
       "    </tr>\n",
       "    <tr>\n",
       "      <td>209</td>\n",
       "      <td>2012.833</td>\n",
       "      <td>34.8</td>\n",
       "      <td>175.6294</td>\n",
       "      <td>8</td>\n",
       "      <td>24.97347</td>\n",
       "      <td>121.54271</td>\n",
       "      <td>40.9</td>\n",
       "      <td>1</td>\n",
       "      <td>0</td>\n",
       "      <td>0</td>\n",
       "      <td>0</td>\n",
       "    </tr>\n",
       "    <tr>\n",
       "      <td>145</td>\n",
       "      <td>2012.917</td>\n",
       "      <td>2.1</td>\n",
       "      <td>451.2438</td>\n",
       "      <td>5</td>\n",
       "      <td>24.97563</td>\n",
       "      <td>121.54694</td>\n",
       "      <td>45.5</td>\n",
       "      <td>1</td>\n",
       "      <td>0</td>\n",
       "      <td>0</td>\n",
       "      <td>0</td>\n",
       "    </tr>\n",
       "    <tr>\n",
       "      <td>98</td>\n",
       "      <td>2013.417</td>\n",
       "      <td>16.4</td>\n",
       "      <td>289.3248</td>\n",
       "      <td>5</td>\n",
       "      <td>24.98203</td>\n",
       "      <td>121.54348</td>\n",
       "      <td>51.0</td>\n",
       "      <td>0</td>\n",
       "      <td>1</td>\n",
       "      <td>0</td>\n",
       "      <td>0</td>\n",
       "    </tr>\n",
       "  </tbody>\n",
       "</table>\n",
       "</div>"
      ],
      "text/plain": [
       "         date   age   distance  stores  latitude  longitude  price  fall  \\\n",
       "347  2013.583  17.4  6488.0210       1  24.95719  121.47353   11.2     0   \n",
       "140  2013.250  16.2   289.3248       5  24.98203  121.54348   51.4     0   \n",
       "209  2012.833  34.8   175.6294       8  24.97347  121.54271   40.9     1   \n",
       "145  2012.917   2.1   451.2438       5  24.97563  121.54694   45.5     1   \n",
       "98   2013.417  16.4   289.3248       5  24.98203  121.54348   51.0     0   \n",
       "\n",
       "     spring  summer  winter  \n",
       "347       0       1       0  \n",
       "140       1       0       0  \n",
       "209       0       0       0  \n",
       "145       0       0       0  \n",
       "98        1       0       0  "
      ]
     },
     "execution_count": 231,
     "metadata": {},
     "output_type": "execute_result"
    }
   ],
   "source": [
    "## Adding a column to represent the intercept term\n",
    "#train.insert(0, 'Intercept', 1)\n",
    "train.head()"
   ]
  },
  {
   "cell_type": "code",
   "execution_count": 232,
   "metadata": {},
   "outputs": [
    {
     "data": {
      "text/html": [
       "<div>\n",
       "<style scoped>\n",
       "    .dataframe tbody tr th:only-of-type {\n",
       "        vertical-align: middle;\n",
       "    }\n",
       "\n",
       "    .dataframe tbody tr th {\n",
       "        vertical-align: top;\n",
       "    }\n",
       "\n",
       "    .dataframe thead th {\n",
       "        text-align: right;\n",
       "    }\n",
       "</style>\n",
       "<table border=\"1\" class=\"dataframe\">\n",
       "  <thead>\n",
       "    <tr style=\"text-align: right;\">\n",
       "      <th></th>\n",
       "      <th>age</th>\n",
       "      <th>distance</th>\n",
       "      <th>stores</th>\n",
       "      <th>price</th>\n",
       "      <th>fall</th>\n",
       "      <th>spring</th>\n",
       "      <th>summer</th>\n",
       "      <th>winter</th>\n",
       "    </tr>\n",
       "  </thead>\n",
       "  <tbody>\n",
       "    <tr>\n",
       "      <td>347</td>\n",
       "      <td>17.4</td>\n",
       "      <td>6488.0210</td>\n",
       "      <td>1</td>\n",
       "      <td>11.2</td>\n",
       "      <td>0</td>\n",
       "      <td>0</td>\n",
       "      <td>1</td>\n",
       "      <td>0</td>\n",
       "    </tr>\n",
       "    <tr>\n",
       "      <td>140</td>\n",
       "      <td>16.2</td>\n",
       "      <td>289.3248</td>\n",
       "      <td>5</td>\n",
       "      <td>51.4</td>\n",
       "      <td>0</td>\n",
       "      <td>1</td>\n",
       "      <td>0</td>\n",
       "      <td>0</td>\n",
       "    </tr>\n",
       "    <tr>\n",
       "      <td>209</td>\n",
       "      <td>34.8</td>\n",
       "      <td>175.6294</td>\n",
       "      <td>8</td>\n",
       "      <td>40.9</td>\n",
       "      <td>1</td>\n",
       "      <td>0</td>\n",
       "      <td>0</td>\n",
       "      <td>0</td>\n",
       "    </tr>\n",
       "    <tr>\n",
       "      <td>145</td>\n",
       "      <td>2.1</td>\n",
       "      <td>451.2438</td>\n",
       "      <td>5</td>\n",
       "      <td>45.5</td>\n",
       "      <td>1</td>\n",
       "      <td>0</td>\n",
       "      <td>0</td>\n",
       "      <td>0</td>\n",
       "    </tr>\n",
       "    <tr>\n",
       "      <td>98</td>\n",
       "      <td>16.4</td>\n",
       "      <td>289.3248</td>\n",
       "      <td>5</td>\n",
       "      <td>51.0</td>\n",
       "      <td>0</td>\n",
       "      <td>1</td>\n",
       "      <td>0</td>\n",
       "      <td>0</td>\n",
       "    </tr>\n",
       "  </tbody>\n",
       "</table>\n",
       "</div>"
      ],
      "text/plain": [
       "      age   distance  stores  price  fall  spring  summer  winter\n",
       "347  17.4  6488.0210       1   11.2     0       0       1       0\n",
       "140  16.2   289.3248       5   51.4     0       1       0       0\n",
       "209  34.8   175.6294       8   40.9     1       0       0       0\n",
       "145   2.1   451.2438       5   45.5     1       0       0       0\n",
       "98   16.4   289.3248       5   51.0     0       1       0       0"
      ]
     },
     "execution_count": 232,
     "metadata": {},
     "output_type": "execute_result"
    }
   ],
   "source": [
    "# Dropping vars 'longitude','latitude', 'date' \n",
    "train=train.drop(columns=['longitude','latitude', 'date'])\n",
    "train.head()"
   ]
  },
  {
   "cell_type": "code",
   "execution_count": 233,
   "metadata": {},
   "outputs": [
    {
     "data": {
      "text/html": [
       "<div>\n",
       "<style scoped>\n",
       "    .dataframe tbody tr th:only-of-type {\n",
       "        vertical-align: middle;\n",
       "    }\n",
       "\n",
       "    .dataframe tbody tr th {\n",
       "        vertical-align: top;\n",
       "    }\n",
       "\n",
       "    .dataframe thead th {\n",
       "        text-align: right;\n",
       "    }\n",
       "</style>\n",
       "<table border=\"1\" class=\"dataframe\">\n",
       "  <thead>\n",
       "    <tr style=\"text-align: right;\">\n",
       "      <th></th>\n",
       "      <th>age</th>\n",
       "      <th>distance</th>\n",
       "      <th>stores</th>\n",
       "      <th>fall</th>\n",
       "      <th>spring</th>\n",
       "      <th>summer</th>\n",
       "      <th>winter</th>\n",
       "      <th>price</th>\n",
       "    </tr>\n",
       "  </thead>\n",
       "  <tbody>\n",
       "    <tr>\n",
       "      <td>347</td>\n",
       "      <td>17.4</td>\n",
       "      <td>6488.0210</td>\n",
       "      <td>1</td>\n",
       "      <td>0</td>\n",
       "      <td>0</td>\n",
       "      <td>1</td>\n",
       "      <td>0</td>\n",
       "      <td>11.2</td>\n",
       "    </tr>\n",
       "    <tr>\n",
       "      <td>140</td>\n",
       "      <td>16.2</td>\n",
       "      <td>289.3248</td>\n",
       "      <td>5</td>\n",
       "      <td>0</td>\n",
       "      <td>1</td>\n",
       "      <td>0</td>\n",
       "      <td>0</td>\n",
       "      <td>51.4</td>\n",
       "    </tr>\n",
       "    <tr>\n",
       "      <td>209</td>\n",
       "      <td>34.8</td>\n",
       "      <td>175.6294</td>\n",
       "      <td>8</td>\n",
       "      <td>1</td>\n",
       "      <td>0</td>\n",
       "      <td>0</td>\n",
       "      <td>0</td>\n",
       "      <td>40.9</td>\n",
       "    </tr>\n",
       "    <tr>\n",
       "      <td>145</td>\n",
       "      <td>2.1</td>\n",
       "      <td>451.2438</td>\n",
       "      <td>5</td>\n",
       "      <td>1</td>\n",
       "      <td>0</td>\n",
       "      <td>0</td>\n",
       "      <td>0</td>\n",
       "      <td>45.5</td>\n",
       "    </tr>\n",
       "    <tr>\n",
       "      <td>98</td>\n",
       "      <td>16.4</td>\n",
       "      <td>289.3248</td>\n",
       "      <td>5</td>\n",
       "      <td>0</td>\n",
       "      <td>1</td>\n",
       "      <td>0</td>\n",
       "      <td>0</td>\n",
       "      <td>51.0</td>\n",
       "    </tr>\n",
       "  </tbody>\n",
       "</table>\n",
       "</div>"
      ],
      "text/plain": [
       "      age   distance  stores  fall  spring  summer  winter  price\n",
       "347  17.4  6488.0210       1     0       0       1       0   11.2\n",
       "140  16.2   289.3248       5     0       1       0       0   51.4\n",
       "209  34.8   175.6294       8     1       0       0       0   40.9\n",
       "145   2.1   451.2438       5     1       0       0       0   45.5\n",
       "98   16.4   289.3248       5     0       1       0       0   51.0"
      ]
     },
     "execution_count": 233,
     "metadata": {},
     "output_type": "execute_result"
    }
   ],
   "source": [
    "# Re-ordering vars \n",
    "train = train[['age', 'distance', 'stores',\"fall\",\"spring\",\"summer\", \"winter\",'price']]\n",
    "train.head()"
   ]
  },
  {
   "cell_type": "code",
   "execution_count": 234,
   "metadata": {},
   "outputs": [],
   "source": [
    "# Creating X matrix and y matrix\n",
    "X=train.loc[:, train.columns != 'price'].to_numpy()\n",
    "y=train['price'].to_numpy()"
   ]
  },
  {
   "cell_type": "code",
   "execution_count": 235,
   "metadata": {},
   "outputs": [],
   "source": [
    "# Taking transpose of matrix X -- X_t\n",
    "X_t = np.transpose(X)"
   ]
  },
  {
   "cell_type": "code",
   "execution_count": 236,
   "metadata": {},
   "outputs": [],
   "source": [
    "# Taking inverse of product of X_t with X \n",
    "from numpy.linalg import inv\n",
    "prod_inverse = inv(np.matmul(X_t,X))"
   ]
  },
  {
   "cell_type": "code",
   "execution_count": 237,
   "metadata": {},
   "outputs": [],
   "source": [
    "# Taking product of 'prod_inverse', X_t, and y -- beta_parameter\n",
    "beta_parameter =  np.matmul(np.matmul(prod_inverse,X_t),y) "
   ]
  },
  {
   "cell_type": "code",
   "execution_count": 238,
   "metadata": {},
   "outputs": [
    {
     "data": {
      "text/plain": [
       "89.18902303663883"
      ]
     },
     "execution_count": 238,
     "metadata": {},
     "output_type": "execute_result"
    }
   ],
   "source": [
    "# Calculating the training error of model using beta parameter\n",
    "y_pred_param=np.matmul(X,beta_parameter)\n",
    "np.mean((train[\"price\"] - y_pred_param)**2)"
   ]
  },
  {
   "cell_type": "code",
   "execution_count": 239,
   "metadata": {},
   "outputs": [
    {
     "data": {
      "text/plain": [
       "array([ 8.05428213, 44.53364744, 41.37973413, 45.43815236, 44.4751653 ])"
      ]
     },
     "execution_count": 239,
     "metadata": {},
     "output_type": "execute_result"
    }
   ],
   "source": [
    "y_pred_param[:5]"
   ]
  },
  {
   "cell_type": "code",
   "execution_count": 240,
   "metadata": {},
   "outputs": [
    {
     "data": {
      "text/plain": [
       "89.18902303663886"
      ]
     },
     "execution_count": 240,
     "metadata": {},
     "output_type": "execute_result"
    }
   ],
   "source": [
    "## Training data mean squared error\n",
    "training_error"
   ]
  },
  {
   "cell_type": "code",
   "execution_count": 241,
   "metadata": {},
   "outputs": [
    {
     "data": {
      "text/html": [
       "<div>\n",
       "<style scoped>\n",
       "    .dataframe tbody tr th:only-of-type {\n",
       "        vertical-align: middle;\n",
       "    }\n",
       "\n",
       "    .dataframe tbody tr th {\n",
       "        vertical-align: top;\n",
       "    }\n",
       "\n",
       "    .dataframe thead th {\n",
       "        text-align: right;\n",
       "    }\n",
       "</style>\n",
       "<table border=\"1\" class=\"dataframe\">\n",
       "  <thead>\n",
       "    <tr style=\"text-align: right;\">\n",
       "      <th></th>\n",
       "      <th>date</th>\n",
       "      <th>age</th>\n",
       "      <th>distance</th>\n",
       "      <th>stores</th>\n",
       "      <th>latitude</th>\n",
       "      <th>longitude</th>\n",
       "      <th>price</th>\n",
       "      <th>fall</th>\n",
       "      <th>spring</th>\n",
       "      <th>summer</th>\n",
       "      <th>winter</th>\n",
       "    </tr>\n",
       "  </thead>\n",
       "  <tbody>\n",
       "    <tr>\n",
       "      <td>0</td>\n",
       "      <td>2012.917</td>\n",
       "      <td>32.0</td>\n",
       "      <td>84.87882</td>\n",
       "      <td>10</td>\n",
       "      <td>24.98298</td>\n",
       "      <td>121.54024</td>\n",
       "      <td>37.9</td>\n",
       "      <td>1</td>\n",
       "      <td>0</td>\n",
       "      <td>0</td>\n",
       "      <td>0</td>\n",
       "    </tr>\n",
       "    <tr>\n",
       "      <td>1</td>\n",
       "      <td>2012.917</td>\n",
       "      <td>19.5</td>\n",
       "      <td>306.59470</td>\n",
       "      <td>9</td>\n",
       "      <td>24.98034</td>\n",
       "      <td>121.53951</td>\n",
       "      <td>42.2</td>\n",
       "      <td>1</td>\n",
       "      <td>0</td>\n",
       "      <td>0</td>\n",
       "      <td>0</td>\n",
       "    </tr>\n",
       "    <tr>\n",
       "      <td>2</td>\n",
       "      <td>2013.583</td>\n",
       "      <td>13.3</td>\n",
       "      <td>561.98450</td>\n",
       "      <td>5</td>\n",
       "      <td>24.98746</td>\n",
       "      <td>121.54391</td>\n",
       "      <td>47.3</td>\n",
       "      <td>0</td>\n",
       "      <td>0</td>\n",
       "      <td>1</td>\n",
       "      <td>0</td>\n",
       "    </tr>\n",
       "    <tr>\n",
       "      <td>3</td>\n",
       "      <td>2013.500</td>\n",
       "      <td>13.3</td>\n",
       "      <td>561.98450</td>\n",
       "      <td>5</td>\n",
       "      <td>24.98746</td>\n",
       "      <td>121.54391</td>\n",
       "      <td>54.8</td>\n",
       "      <td>0</td>\n",
       "      <td>0</td>\n",
       "      <td>1</td>\n",
       "      <td>0</td>\n",
       "    </tr>\n",
       "    <tr>\n",
       "      <td>4</td>\n",
       "      <td>2012.833</td>\n",
       "      <td>5.0</td>\n",
       "      <td>390.56840</td>\n",
       "      <td>5</td>\n",
       "      <td>24.97937</td>\n",
       "      <td>121.54245</td>\n",
       "      <td>43.1</td>\n",
       "      <td>1</td>\n",
       "      <td>0</td>\n",
       "      <td>0</td>\n",
       "      <td>0</td>\n",
       "    </tr>\n",
       "  </tbody>\n",
       "</table>\n",
       "</div>"
      ],
      "text/plain": [
       "       date   age   distance  stores  latitude  longitude  price  fall  \\\n",
       "0  2012.917  32.0   84.87882      10  24.98298  121.54024   37.9     1   \n",
       "1  2012.917  19.5  306.59470       9  24.98034  121.53951   42.2     1   \n",
       "2  2013.583  13.3  561.98450       5  24.98746  121.54391   47.3     0   \n",
       "3  2013.500  13.3  561.98450       5  24.98746  121.54391   54.8     0   \n",
       "4  2012.833   5.0  390.56840       5  24.97937  121.54245   43.1     1   \n",
       "\n",
       "   spring  summer  winter  \n",
       "0       0       0       0  \n",
       "1       0       0       0  \n",
       "2       0       1       0  \n",
       "3       0       1       0  \n",
       "4       0       0       0  "
      ]
     },
     "execution_count": 241,
     "metadata": {},
     "output_type": "execute_result"
    }
   ],
   "source": [
    "realestate.head()"
   ]
  },
  {
   "cell_type": "code",
   "execution_count": 242,
   "metadata": {},
   "outputs": [],
   "source": [
    "from sklearn.model_selection import train_test_split\n",
    "train2, test2 = train_test_split(realestate, test_size=100/len(realestate))"
   ]
  },
  {
   "cell_type": "code",
   "execution_count": 243,
   "metadata": {},
   "outputs": [],
   "source": [
    "# Creating X matrix and y matrix\n",
    "X2=train2.loc[:, train2.columns != 'price'].to_numpy()\n",
    "y2=train2['price'].to_numpy()\n",
    "\n",
    "X3=train2[[\"age\",\"distance\",\"stores\"]].to_numpy()\n",
    "y3=train2['price'].to_numpy()"
   ]
  },
  {
   "cell_type": "code",
   "execution_count": 244,
   "metadata": {},
   "outputs": [],
   "source": [
    "from sklearn.linear_model import LinearRegression\n",
    "full_model=LinearRegression(fit_intercept=False).fit(X2,y2)\n",
    "sub_model=LinearRegression().fit(X3,y3)"
   ]
  },
  {
   "cell_type": "code",
   "execution_count": 245,
   "metadata": {},
   "outputs": [
    {
     "data": {
      "text/plain": [
       "8472499.94347274"
      ]
     },
     "execution_count": 245,
     "metadata": {},
     "output_type": "execute_result"
    }
   ],
   "source": [
    "# Calculating the Cp criterion for the full model\n",
    "from sklearn.metrics import mean_squared_error\n",
    "train_pred2=full_model.predict(train2.loc[:, train2.columns != 'price'])\n",
    "\n",
    "p_full=10\n",
    "n=len(train2)\n",
    "RSS_full=sum((train2[\"price\"]-train_pred2)**2) * n\n",
    "sigma_square_full=mean_squared_error(train2[\"price\"], train_pred2)\n",
    "Cp_full=RSS_full+2*p_full*sigma_square_full\n",
    "\n",
    "Cp_full"
   ]
  },
  {
   "cell_type": "code",
   "execution_count": 246,
   "metadata": {},
   "outputs": [
    {
     "data": {
      "text/plain": [
       "9227974.933662606"
      ]
     },
     "execution_count": 246,
     "metadata": {},
     "output_type": "execute_result"
    }
   ],
   "source": [
    "# Calculating the Cp criterion for the full model\n",
    "from sklearn.metrics import mean_squared_error\n",
    "train_pred3=sub_model.predict(train2[[\"age\",\"distance\",\"stores\"]])\n",
    "\n",
    "p_sub=4\n",
    "n=len(train2)\n",
    "RSS_sub=sum((train2[\"price\"]-train_pred3)**2) * n\n",
    "sigma_square_sub=mean_squared_error(train2[\"price\"], train_pred3)\n",
    "Cp_sub=RSS_sub+2*p_sub*sigma_square_sub\n",
    "\n",
    "Cp_sub"
   ]
  },
  {
   "cell_type": "markdown",
   "metadata": {},
   "source": [
    "\n",
    "The better model based on Mallow’s Cp criterion is the one with lower Cp value i.e. full model i.e., with all variables included."
   ]
  },
  {
   "cell_type": "code",
   "execution_count": null,
   "metadata": {},
   "outputs": [],
   "source": []
  },
  {
   "cell_type": "code",
   "execution_count": null,
   "metadata": {},
   "outputs": [],
   "source": [
    "# Calculating AIC BIC"
   ]
  },
  {
   "cell_type": "code",
   "execution_count": null,
   "metadata": {},
   "outputs": [],
   "source": [
    "# Step-wise regression with AIC"
   ]
  },
  {
   "cell_type": "markdown",
   "metadata": {},
   "source": [
    "## Implementing Best subset selection (using itertools.combinations)¶"
   ]
  },
  {
   "cell_type": "code",
   "execution_count": 255,
   "metadata": {},
   "outputs": [],
   "source": [
    "#Initialization variables\n",
    "y = train.price\n",
    "X = train.drop(columns = ['price'])\n",
    "k = 7\n",
    "RSS_list, R_squared_list, feature_list = [],[], []\n",
    "num_features = []"
   ]
  },
  {
   "cell_type": "markdown",
   "metadata": {},
   "source": [
    "### Helper function for fitting linear regression (Sklearn)"
   ]
  },
  {
   "cell_type": "code",
   "execution_count": 256,
   "metadata": {},
   "outputs": [],
   "source": [
    "from sklearn.linear_model import LinearRegression\n",
    "from sklearn.metrics import mean_squared_error\n",
    "\n",
    "\n",
    "def fit_linear_reg(X,y):\n",
    "    \"\"\"Fit linear regression model and return RSS and R squared values\"\"\"\n",
    "    model_k=LinearRegression().fit(X,y)\n",
    "    pred=model_k.predict(X)\n",
    "    RSS_k=mean_squared_error(y,pred)* len(Y)\n",
    "    R_squared_k=model_k.score(X,Y)\n",
    "    return([RSS_k,R_squared_k])\n",
    "#return RSS, R_squared"
   ]
  },
  {
   "cell_type": "code",
   "execution_count": 260,
   "metadata": {},
   "outputs": [
    {
     "name": "stderr",
     "output_type": "stream",
     "text": [
      "/Users/sharvitomar/opt/anaconda3/lib/python3.7/site-packages/ipykernel_launcher.py:5: TqdmDeprecationWarning: Please use `tqdm.notebook.trange` instead of `tqdm.tnrange`\n",
      "  \"\"\"\n"
     ]
    },
    {
     "data": {
      "application/vnd.jupyter.widget-view+json": {
       "model_id": "111b9ff2764747dda55bd70f906b3059",
       "version_major": 2,
       "version_minor": 0
      },
      "text/plain": [
       "Loop...:   0%|          | 0/7 [00:00<?, ?it/s]"
      ]
     },
     "metadata": {},
     "output_type": "display_data"
    }
   ],
   "source": [
    "import itertools\n",
    "import pandas as pd\n",
    "from tqdm import tnrange, tqdm_notebook  #Importing tqdm for the progress bar\n",
    "\n",
    "for k in tnrange(1,len(X.columns) + 1, desc = 'Loop...'):\n",
    "    \n",
    "        for comb in itertools.combinations(X.columns,k):\n",
    "            lm=fit_linear_reg(X[list(comb)],y)\n",
    "            RSS_list.append(lm[0])\n",
    "            R_squared_list.append(lm[1])\n",
    "            num_features.append(len(combo))\n",
    "            feature_list.append(comb)\n",
    "\n",
    "df=pd.DataFrame({'numb_features':num_features,'RSS_list':RSS_list, 'R_squared_list':R_squared_list,'feature_list':feature_list})  \n"
   ]
  },
  {
   "cell_type": "code",
   "execution_count": 261,
   "metadata": {},
   "outputs": [
    {
     "data": {
      "text/html": [
       "<div>\n",
       "<style scoped>\n",
       "    .dataframe tbody tr th:only-of-type {\n",
       "        vertical-align: middle;\n",
       "    }\n",
       "\n",
       "    .dataframe tbody tr th {\n",
       "        vertical-align: top;\n",
       "    }\n",
       "\n",
       "    .dataframe thead th {\n",
       "        text-align: right;\n",
       "    }\n",
       "</style>\n",
       "<table border=\"1\" class=\"dataframe\">\n",
       "  <thead>\n",
       "    <tr style=\"text-align: right;\">\n",
       "      <th></th>\n",
       "      <th>numb_features</th>\n",
       "      <th>RSS_list</th>\n",
       "      <th>R_squared_list</th>\n",
       "      <th>feature_list</th>\n",
       "    </tr>\n",
       "  </thead>\n",
       "  <tbody>\n",
       "    <tr>\n",
       "      <td>0</td>\n",
       "      <td>7</td>\n",
       "      <td>59654.829925</td>\n",
       "      <td>-0.083421</td>\n",
       "      <td>(age,)</td>\n",
       "    </tr>\n",
       "    <tr>\n",
       "      <td>1</td>\n",
       "      <td>7</td>\n",
       "      <td>34683.783053</td>\n",
       "      <td>-0.508097</td>\n",
       "      <td>(distance,)</td>\n",
       "    </tr>\n",
       "    <tr>\n",
       "      <td>2</td>\n",
       "      <td>7</td>\n",
       "      <td>42479.475290</td>\n",
       "      <td>-0.284569</td>\n",
       "      <td>(stores,)</td>\n",
       "    </tr>\n",
       "    <tr>\n",
       "      <td>3</td>\n",
       "      <td>7</td>\n",
       "      <td>62011.686583</td>\n",
       "      <td>-0.022965</td>\n",
       "      <td>(fall,)</td>\n",
       "    </tr>\n",
       "    <tr>\n",
       "      <td>4</td>\n",
       "      <td>7</td>\n",
       "      <td>62062.941589</td>\n",
       "      <td>-0.035863</td>\n",
       "      <td>(spring,)</td>\n",
       "    </tr>\n",
       "    <tr>\n",
       "      <td>...</td>\n",
       "      <td>...</td>\n",
       "      <td>...</td>\n",
       "      <td>...</td>\n",
       "      <td>...</td>\n",
       "    </tr>\n",
       "    <tr>\n",
       "      <td>503</td>\n",
       "      <td>7</td>\n",
       "      <td>28005.353234</td>\n",
       "      <td>-0.614256</td>\n",
       "      <td>(age, distance, stores, spring, summer, winter)</td>\n",
       "    </tr>\n",
       "    <tr>\n",
       "      <td>504</td>\n",
       "      <td>7</td>\n",
       "      <td>31202.704959</td>\n",
       "      <td>-0.598053</td>\n",
       "      <td>(age, distance, fall, spring, summer, winter)</td>\n",
       "    </tr>\n",
       "    <tr>\n",
       "      <td>505</td>\n",
       "      <td>7</td>\n",
       "      <td>37297.290726</td>\n",
       "      <td>-0.411520</td>\n",
       "      <td>(age, stores, fall, spring, summer, winter)</td>\n",
       "    </tr>\n",
       "    <tr>\n",
       "      <td>506</td>\n",
       "      <td>7</td>\n",
       "      <td>31385.254939</td>\n",
       "      <td>-0.536622</td>\n",
       "      <td>(distance, stores, fall, spring, summer, winter)</td>\n",
       "    </tr>\n",
       "    <tr>\n",
       "      <td>507</td>\n",
       "      <td>7</td>\n",
       "      <td>28005.353234</td>\n",
       "      <td>-0.614256</td>\n",
       "      <td>(age, distance, stores, fall, spring, summer, ...</td>\n",
       "    </tr>\n",
       "  </tbody>\n",
       "</table>\n",
       "<p>508 rows × 4 columns</p>\n",
       "</div>"
      ],
      "text/plain": [
       "     numb_features      RSS_list  R_squared_list  \\\n",
       "0                7  59654.829925       -0.083421   \n",
       "1                7  34683.783053       -0.508097   \n",
       "2                7  42479.475290       -0.284569   \n",
       "3                7  62011.686583       -0.022965   \n",
       "4                7  62062.941589       -0.035863   \n",
       "..             ...           ...             ...   \n",
       "503              7  28005.353234       -0.614256   \n",
       "504              7  31202.704959       -0.598053   \n",
       "505              7  37297.290726       -0.411520   \n",
       "506              7  31385.254939       -0.536622   \n",
       "507              7  28005.353234       -0.614256   \n",
       "\n",
       "                                          feature_list  \n",
       "0                                               (age,)  \n",
       "1                                          (distance,)  \n",
       "2                                            (stores,)  \n",
       "3                                              (fall,)  \n",
       "4                                            (spring,)  \n",
       "..                                                 ...  \n",
       "503    (age, distance, stores, spring, summer, winter)  \n",
       "504      (age, distance, fall, spring, summer, winter)  \n",
       "505        (age, stores, fall, spring, summer, winter)  \n",
       "506   (distance, stores, fall, spring, summer, winter)  \n",
       "507  (age, distance, stores, fall, spring, summer, ...  \n",
       "\n",
       "[508 rows x 4 columns]"
      ]
     },
     "execution_count": 261,
     "metadata": {},
     "output_type": "execute_result"
    }
   ],
   "source": [
    "df"
   ]
  },
  {
   "cell_type": "markdown",
   "metadata": {},
   "source": [
    "## Implementing Stepwise Regression (using statsmodels)"
   ]
  },
  {
   "cell_type": "markdown",
   "metadata": {},
   "source": [
    "It tries to optimize adjusted R-squared by adding features that help the most one at a time until the score goes down or you run out of features."
   ]
  },
  {
   "cell_type": "code",
   "execution_count": 262,
   "metadata": {},
   "outputs": [],
   "source": [
    "import statsmodels.formula.api as smf\n",
    "\n",
    "def forward_selected(data, response):\n",
    "    \"\"\"Linear model designed by forward selection.\n",
    "\n",
    "    Parameters:\n",
    "    -----------\n",
    "    data : pandas DataFrame with all possible predictors and response\n",
    "\n",
    "    response: string, name of response column in data\n",
    "\n",
    "    Returns:\n",
    "    --------\n",
    "    model: an \"optimal\" fitted statsmodels linear model\n",
    "           with an intercept\n",
    "           selected by forward selection\n",
    "           evaluated by adjusted R-squared\n",
    "    \"\"\"\n",
    "    remaining = set(data.columns)\n",
    "    remaining.remove(response)\n",
    "    selected = []\n",
    "    current_score, best_new_score = 0.0, 0.0\n",
    "    while remaining and current_score == best_new_score:\n",
    "        scores_with_candidates = []\n",
    "        for candidate in remaining:\n",
    "            formula = \"{} ~ {} + 1\".format(response,\n",
    "                                           ' + '.join(selected + [candidate]))\n",
    "            score = smf.ols(formula, data).fit().rsquared_adj\n",
    "            scores_with_candidates.append((score, candidate))\n",
    "        scores_with_candidates.sort()\n",
    "        best_new_score, best_candidate = scores_with_candidates.pop()\n",
    "        if current_score < best_new_score:\n",
    "            remaining.remove(best_candidate)\n",
    "            selected.append(best_candidate)\n",
    "            current_score = best_new_score\n",
    "    formula = \"{} ~ {} + 1\".format(response,\n",
    "                                   ' + '.join(selected))\n",
    "    model = smf.ols(formula, data).fit()\n",
    "    return model\n"
   ]
  },
  {
   "cell_type": "code",
   "execution_count": null,
   "metadata": {},
   "outputs": [],
   "source": []
  }
 ],
 "metadata": {
  "kernelspec": {
   "display_name": "Python 3",
   "language": "python",
   "name": "python3"
  },
  "language_info": {
   "codemirror_mode": {
    "name": "ipython",
    "version": 3
   },
   "file_extension": ".py",
   "mimetype": "text/x-python",
   "name": "python",
   "nbconvert_exporter": "python",
   "pygments_lexer": "ipython3",
   "version": "3.7.4"
  }
 },
 "nbformat": 4,
 "nbformat_minor": 2
}
